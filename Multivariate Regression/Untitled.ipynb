{
 "cells": [
  {
   "cell_type": "code",
   "execution_count": 2,
   "metadata": {},
   "outputs": [],
   "source": [
    "import pandas as pd\n",
    "import numpy as np\n",
    "import matplotlib.pyplot as plt\n",
    "from sklearn.linear_model import LinearRegression"
   ]
  },
  {
   "cell_type": "code",
   "execution_count": 3,
   "metadata": {},
   "outputs": [
    {
     "name": "stdout",
     "output_type": "stream",
     "text": [
      "(1600, 5)\n",
      "(1600, 1)\n"
     ]
    }
   ],
   "source": [
    "df = pd.read_csv(\"Datasets/Air Prediction/Train/Train.csv\")\n",
    "\n",
    "x = df[['feature_1','feature_2','feature_3','feature_4','feature_5']].values\n",
    "y = df[['target']].values\n",
    "\n",
    "print(x.shape)\n",
    "print(y.shape)"
   ]
  },
  {
   "cell_type": "code",
   "execution_count": 4,
   "metadata": {},
   "outputs": [
    {
     "data": {
      "text/plain": [
       "LinearRegression(copy_X=True, fit_intercept=True, n_jobs=None, normalize=True)"
      ]
     },
     "execution_count": 4,
     "metadata": {},
     "output_type": "execute_result"
    }
   ],
   "source": [
    "lr = LinearRegression(normalize = True)\n",
    "lr.fit(x,y)"
   ]
  },
  {
   "cell_type": "code",
   "execution_count": 5,
   "metadata": {},
   "outputs": [
    {
     "name": "stdout",
     "output_type": "stream",
     "text": [
      "[[29.68187118]\n",
      " [92.66247759]\n",
      " [ 8.28062089]\n",
      " [44.76773522]\n",
      " [ 2.51916121]]\n",
      "[4.99096674]\n"
     ]
    }
   ],
   "source": [
    "theta = lr.coef_\n",
    "z = lr.intercept_\n",
    "theta = np.transpose(theta)\n",
    "print(theta)\n",
    "print(z)"
   ]
  },
  {
   "cell_type": "code",
   "execution_count": 9,
   "metadata": {},
   "outputs": [],
   "source": [
    "fd = pd.read_csv(\"Datasets/Air Prediction/Test/Test.csv\")\n",
    "\n",
    "a = fd[['feature_1','feature_2','feature_3','feature_4','Feature_5']].values\n",
    "\n",
    "b = lr.predict(a)\n",
    "\n",
    "np.savetxt(\"Datasets/Air Prediction/Test/out.csv\", b)"
   ]
  },
  {
   "cell_type": "code",
   "execution_count": 157,
   "metadata": {},
   "outputs": [],
   "source": []
  },
  {
   "cell_type": "code",
   "execution_count": null,
   "metadata": {},
   "outputs": [],
   "source": []
  }
 ],
 "metadata": {
  "kernelspec": {
   "display_name": "Python 3",
   "language": "python",
   "name": "python3"
  },
  "language_info": {
   "codemirror_mode": {
    "name": "ipython",
    "version": 3
   },
   "file_extension": ".py",
   "mimetype": "text/x-python",
   "name": "python",
   "nbconvert_exporter": "python",
   "pygments_lexer": "ipython3",
   "version": "3.6.7"
  }
 },
 "nbformat": 4,
 "nbformat_minor": 2
}
