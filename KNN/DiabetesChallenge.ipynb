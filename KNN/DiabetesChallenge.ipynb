{
 "cells": [
  {
   "cell_type": "code",
   "execution_count": 1,
   "metadata": {},
   "outputs": [],
   "source": [
    "import pandas as pd\n",
    "import numpy as np\n",
    "import matplotlib.pyplot as plt"
   ]
  },
  {
   "cell_type": "code",
   "execution_count": 5,
   "metadata": {},
   "outputs": [
    {
     "name": "stdout",
     "output_type": "stream",
     "text": [
      "(192, 8)\n"
     ]
    }
   ],
   "source": [
    "df1 = pd.read_csv(\"Datasets/Training Data/Diabetes_XTrain.csv\")\n",
    "df2 = pd.read_csv(\"Datasets/Training Data/Diabetes_YTrain.csv\")\n",
    "test = pd.read_csv(\"Datasets/Training Data/Diabetes_Xtest.csv\")\n",
    "#print(df1.shape)\n",
    "#print(df2.shape)\n",
    "#print(df1.columns)\n",
    "#print(df2.columns)"
   ]
  },
  {
   "cell_type": "code",
   "execution_count": 4,
   "metadata": {},
   "outputs": [],
   "source": [
    "# df1.head(n=5)"
   ]
  },
  {
   "cell_type": "code",
   "execution_count": 6,
   "metadata": {},
   "outputs": [],
   "source": [
    "data1 = df1.values\n",
    "data2 = df2.values\n",
    "testing = test.values"
   ]
  },
  {
   "cell_type": "code",
   "execution_count": 7,
   "metadata": {},
   "outputs": [],
   "source": [
    "X = data1\n",
    "Y = data2[:,0]\n",
    "x = testing\n",
    "# print(Y.shape)\n",
    "# print(Y)"
   ]
  },
  {
   "cell_type": "code",
   "execution_count": 39,
   "metadata": {},
   "outputs": [],
   "source": [
    "def distance(x1,x2):\n",
    "    return np.sqrt(sum((x1-x2)**2))\n",
    "\n",
    "def knn(X,Y,queryPoint,K=13):\n",
    "    vals = []\n",
    "    m = X.shape[0]\n",
    "    \n",
    "    for i in range(m):\n",
    "        d = distance(queryPoint,X[i])\n",
    "        vals.append((d,Y[i]))\n",
    "    # print(vals)\n",
    "    vals = sorted(vals)\n",
    "#    print(vals)\n",
    "    # Pick the Nearest/First K points\n",
    "    \n",
    "    vals = vals[:K]\n",
    "    vals = np.array(vals)\n",
    "    #print(vals)\n",
    "    \n",
    "    new_vals = np.unique(vals[:,1], return_counts=True)\n",
    "    #print(new_vals)\n",
    "    \n",
    "    \n",
    "    index = new_vals[1].argmax()\n",
    "    #print(index)\n",
    "    pred = new_vals[0][index]\n",
    "    \n",
    "    #print(index)\n",
    "    #print(pred)\n",
    "    #print(vals)\n",
    "    #return vals\n",
    "    return pred"
   ]
  },
  {
   "cell_type": "code",
   "execution_count": 40,
   "metadata": {},
   "outputs": [],
   "source": [
    "a = []\n",
    "#b = []\n",
    "for i in range(192):\n",
    "    pred = knn(X,Y,x[i])\n",
    "    a.append(int(pred))\n",
    "    #b.append(Y[i])\n",
    "#print(a)\n",
    "#print(b)\n",
    "df = pd.DataFrame(a)\n",
    "\n",
    "df.to_csv(\"Datasets/Training Data/Diabetes_Y6test.csv\")"
   ]
  },
  {
   "cell_type": "code",
   "execution_count": null,
   "metadata": {},
   "outputs": [],
   "source": []
  },
  {
   "cell_type": "code",
   "execution_count": null,
   "metadata": {},
   "outputs": [],
   "source": []
  }
 ],
 "metadata": {
  "kernelspec": {
   "display_name": "Python 3",
   "language": "python",
   "name": "python3"
  },
  "language_info": {
   "codemirror_mode": {
    "name": "ipython",
    "version": 3
   },
   "file_extension": ".py",
   "mimetype": "text/x-python",
   "name": "python",
   "nbconvert_exporter": "python",
   "pygments_lexer": "ipython3",
   "version": "3.6.7"
  }
 },
 "nbformat": 4,
 "nbformat_minor": 2
}
