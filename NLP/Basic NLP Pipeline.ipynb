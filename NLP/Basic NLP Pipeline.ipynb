{
 "cells": [
  {
   "cell_type": "markdown",
   "metadata": {},
   "source": [
    "## Basic NLP Pipeline"
   ]
  },
  {
   "cell_type": "code",
   "execution_count": 1,
   "metadata": {},
   "outputs": [],
   "source": [
    "## Tokenisation"
   ]
  },
  {
   "cell_type": "code",
   "execution_count": 15,
   "metadata": {},
   "outputs": [],
   "source": [
    "from nltk.tokenize import sent_tokenize, word_tokenize"
   ]
  },
  {
   "cell_type": "code",
   "execution_count": 65,
   "metadata": {},
   "outputs": [
    {
     "name": "stdout",
     "output_type": "stream",
     "text": [
      "It was a very pleasant and cool day, their were light showers. I went to the Mall road for some shopping.\n"
     ]
    }
   ],
   "source": [
    "text = \"It was a very pleasant and cool day, their were light showers. I went to the Mall road for some shopping.\"\n",
    "print(text)"
   ]
  },
  {
   "cell_type": "code",
   "execution_count": 17,
   "metadata": {},
   "outputs": [
    {
     "name": "stdout",
     "output_type": "stream",
     "text": [
      "['It was a very pleasant and cool day, their were light showers.', 'I went to the Mall road for some shopping.']\n"
     ]
    }
   ],
   "source": [
    "sents = sent_tokenize(text)\n",
    "print(sents)"
   ]
  },
  {
   "cell_type": "code",
   "execution_count": 19,
   "metadata": {},
   "outputs": [
    {
     "name": "stdout",
     "output_type": "stream",
     "text": [
      "['it', 'was', 'a', 'very', 'pleasant', 'and', 'cool', 'day', ',', 'their', 'were', 'light', 'showers', '.']\n"
     ]
    }
   ],
   "source": [
    "word_list = word_tokenize(sents[0].lower())\n",
    "print(word_list)"
   ]
  },
  {
   "cell_type": "code",
   "execution_count": 20,
   "metadata": {},
   "outputs": [],
   "source": [
    "## Stopwords removal"
   ]
  },
  {
   "cell_type": "code",
   "execution_count": 21,
   "metadata": {},
   "outputs": [],
   "source": [
    "from nltk.corpus import stopwords"
   ]
  },
  {
   "cell_type": "code",
   "execution_count": 22,
   "metadata": {},
   "outputs": [],
   "source": [
    "sw = set(stopwords.words('english'))"
   ]
  },
  {
   "cell_type": "code",
   "execution_count": 23,
   "metadata": {},
   "outputs": [
    {
     "name": "stdout",
     "output_type": "stream",
     "text": [
      "{\"should've\", 'no', 'mustn', 'off', 'same', 'up', \"doesn't\", 'they', 'our', 'was', 'with', \"shouldn't\", 'y', 's', 'as', \"wasn't\", 'for', 'all', 'some', 'the', \"that'll\", 'weren', 'in', 'himself', \"needn't\", 'only', 'why', 'can', 'nor', 'above', 'this', 'should', 'at', 'into', 'are', 'ours', 'under', 'your', \"mustn't\", 'being', 'having', 'now', 'ourselves', 'but', 'don', \"don't\", 'yourself', 'or', 'is', 'whom', 'down', \"haven't\", 'how', 'once', 'hers', 'yourselves', 'then', 'more', 'most', 'if', 'few', 'i', \"won't\", 'their', 'didn', 'myself', \"it's\", \"you're\", 'very', \"didn't\", 'during', 're', 'have', \"you'll\", 'his', 'these', 'were', 'you', 'has', 'both', 'ain', 'an', 'until', 'hasn', 'further', \"hadn't\", 'herself', 'where', 'aren', 'each', \"you'd\", 'wouldn', 'other', \"she's\", 'so', 'here', \"weren't\", 'and', 'by', 'be', 'doesn', 'o', 'than', 'we', 'ma', 've', 'not', 'before', 'haven', 'from', 'that', 'won', 'mightn', 'been', 'on', 'wasn', 'hadn', 'd', 'needn', 'to', 'she', 'while', 'had', 'will', 'below', 'such', 'what', 'shan', \"mightn't\", \"isn't\", 'am', \"wouldn't\", 'themselves', 'shouldn', 'out', 'because', 'its', 'did', 'yours', 'any', 'doing', 'after', 'm', 'through', 'her', 'those', 'me', 'a', 'again', 'll', 'isn', 'of', 'when', 'he', 'between', 'over', 't', 'him', 'just', 'it', 'which', \"aren't\", 'too', 'against', 'them', \"you've\", 'who', 'about', \"hasn't\", 'couldn', 'does', 'itself', \"couldn't\", 'there', 'own', \"shan't\", 'my', 'do', 'theirs'}\n"
     ]
    }
   ],
   "source": [
    "print(sw)"
   ]
  },
  {
   "cell_type": "code",
   "execution_count": 24,
   "metadata": {},
   "outputs": [
    {
     "name": "stdout",
     "output_type": "stream",
     "text": [
      "['pleasant', 'cool', 'day', ',', 'light', 'showers', '.']\n"
     ]
    }
   ],
   "source": [
    "\n"
   ]
  },
  {
   "cell_type": "code",
   "execution_count": 25,
   "metadata": {},
   "outputs": [],
   "source": [
    "## Tokenisation using regex"
   ]
  },
  {
   "cell_type": "code",
   "execution_count": 26,
   "metadata": {},
   "outputs": [],
   "source": [
    "from nltk.tokenize import RegexpTokenizer"
   ]
  },
  {
   "cell_type": "code",
   "execution_count": 27,
   "metadata": {},
   "outputs": [],
   "source": [
    "tokenizer = RegexpTokenizer(\"[A-Za-z@]+\")"
   ]
  },
  {
   "cell_type": "code",
   "execution_count": 28,
   "metadata": {},
   "outputs": [],
   "source": [
    "text1 = \"Send all the related documents to clauses 1,2,3 at siddhu15798@gmail.com\""
   ]
  },
  {
   "cell_type": "code",
   "execution_count": 29,
   "metadata": {},
   "outputs": [
    {
     "name": "stdout",
     "output_type": "stream",
     "text": [
      "['Send', 'all', 'the', 'related', 'documents', 'to', 'clauses', 'at', 'siddhu', '@gmail', 'com']\n"
     ]
    }
   ],
   "source": [
    "print(tokenizer.tokenize(text1))"
   ]
  },
  {
   "cell_type": "code",
   "execution_count": 30,
   "metadata": {},
   "outputs": [],
   "source": [
    "tokenizer1 = RegexpTokenizer(\"[A-Za-z]+\")"
   ]
  },
  {
   "cell_type": "code",
   "execution_count": 32,
   "metadata": {},
   "outputs": [
    {
     "name": "stdout",
     "output_type": "stream",
     "text": [
      "['It', 'was', 'a', 'very', 'pleasant', 'and', 'cool', 'day', 'their', 'were', 'light', 'showers', 'I', 'went', 'to', 'the', 'Mall', 'road', 'for', 'some', 'shopping']\n"
     ]
    }
   ],
   "source": [
    "print(tokenizer.tokenize(text))"
   ]
  },
  {
   "cell_type": "code",
   "execution_count": 33,
   "metadata": {},
   "outputs": [],
   "source": [
    "## Stemming"
   ]
  },
  {
   "cell_type": "code",
   "execution_count": 40,
   "metadata": {},
   "outputs": [],
   "source": [
    "text2 = \"Foxes love to make jumps. The quick brown fox was seen jumping over the lovely dog from a 6ft high wall\""
   ]
  },
  {
   "cell_type": "code",
   "execution_count": 41,
   "metadata": {},
   "outputs": [],
   "source": [
    "wordlist1 = tokenizer.tokenize(text2.lower())"
   ]
  },
  {
   "cell_type": "code",
   "execution_count": 42,
   "metadata": {},
   "outputs": [
    {
     "name": "stdout",
     "output_type": "stream",
     "text": [
      "['foxes', 'love', 'make', 'jumps', 'quick', 'brown', 'fox', 'seen', 'jumping', 'lovely', 'dog', 'ft', 'high', 'wall']\n"
     ]
    }
   ],
   "source": [
    "wordlist1 = [w for w in wordlist1 if w not in sw]\n",
    "print(wordlist1)"
   ]
  },
  {
   "cell_type": "markdown",
   "metadata": {},
   "source": [
    "### Types of Stemmer\n",
    "- 1) Snowball Stemmer - Supports multilingual stemming\n",
    "- 2) Porter Stemmer - Supports only English\n",
    "- 3) Lancaster Stemmer - Supports only English"
   ]
  },
  {
   "cell_type": "code",
   "execution_count": 60,
   "metadata": {},
   "outputs": [],
   "source": [
    "from nltk.stem.snowball import PorterStemmer, SnowballStemmer\n",
    "from nltk.stem.lancaster import LancasterStemmer"
   ]
  },
  {
   "cell_type": "code",
   "execution_count": 53,
   "metadata": {},
   "outputs": [],
   "source": [
    "ps = PorterStemmer()"
   ]
  },
  {
   "cell_type": "code",
   "execution_count": 58,
   "metadata": {},
   "outputs": [
    {
     "data": {
      "text/plain": [
       "'teeth'"
      ]
     },
     "execution_count": 58,
     "metadata": {},
     "output_type": "execute_result"
    }
   ],
   "source": [
    "ps.stem(\"lovely\")\n",
    "ps.stem(\"teeth\")"
   ]
  },
  {
   "cell_type": "code",
   "execution_count": 55,
   "metadata": {},
   "outputs": [
    {
     "name": "stdout",
     "output_type": "stream",
     "text": [
      "{'dog', 'jump', 'quick', 'high', 'fox', 'brown', 'wall', 'love', 'make', 'ft', 'seen'}\n"
     ]
    }
   ],
   "source": [
    "j = []\n",
    "for i in wordlist1:\n",
    "    a = ps.stem(i)\n",
    "    j.append(a)\n",
    "print(set(j))"
   ]
  },
  {
   "cell_type": "code",
   "execution_count": 57,
   "metadata": {},
   "outputs": [
    {
     "data": {
      "text/plain": [
       "'tee'"
      ]
     },
     "execution_count": 57,
     "metadata": {},
     "output_type": "execute_result"
    }
   ],
   "source": [
    "ls = LancasterStemmer()\n",
    "ls.stem(\"teeth\")"
   ]
  },
  {
   "cell_type": "code",
   "execution_count": 59,
   "metadata": {},
   "outputs": [
    {
     "name": "stdout",
     "output_type": "stream",
     "text": [
      "{'dog', 'jump', 'quick', 'high', 'fox', 'brown', 'wall', 'love', 'make', 'ft', 'seen'}\n"
     ]
    }
   ],
   "source": [
    "k = []\n",
    "for i in wordlist1:\n",
    "    a = ls.stem(i)\n",
    "    k.append(a)\n",
    "print(set(j))"
   ]
  },
  {
   "cell_type": "code",
   "execution_count": 62,
   "metadata": {},
   "outputs": [
    {
     "data": {
      "text/plain": [
       "'teeth'"
      ]
     },
     "execution_count": 62,
     "metadata": {},
     "output_type": "execute_result"
    }
   ],
   "source": [
    "ss = SnowballStemmer('english')\n",
    "ss.stem(\"teeth\")"
   ]
  },
  {
   "cell_type": "code",
   "execution_count": 63,
   "metadata": {},
   "outputs": [
    {
     "name": "stdout",
     "output_type": "stream",
     "text": [
      "{'dog', 'jump', 'quick', 'high', 'fox', 'brown', 'wall', 'love', 'make', 'ft', 'seen'}\n"
     ]
    }
   ],
   "source": [
    "l = []\n",
    "for i in wordlist1:\n",
    "    a = ss.stem(i)\n",
    "    l.append(a)\n",
    "print(set(j))"
   ]
  },
  {
   "cell_type": "code",
   "execution_count": 68,
   "metadata": {},
   "outputs": [],
   "source": [
    "def func(text):\n",
    "    tokenizer = RegexpTokenizer(\"[A-Za-z]+\")\n",
    "    words = tokenizer.tokenize(text.lower())\n",
    "    sw = set(stopwords.words('english'))\n",
    "    useful_words = [w for w in words if w not in sw]\n",
    "    ss = SnowballStemmer('english')\n",
    "    x = []\n",
    "    for i in useful_words:\n",
    "        a = ss.stem(i)\n",
    "        x.append(a)\n",
    "    return x"
   ]
  },
  {
   "cell_type": "code",
   "execution_count": 70,
   "metadata": {},
   "outputs": [
    {
     "name": "stdout",
     "output_type": "stream",
     "text": [
      "['pleasant', 'cool', 'day', 'light', 'shower', 'went', 'mall', 'road', 'shop']\n"
     ]
    }
   ],
   "source": [
    "y = func(text)\n",
    "print(y)"
   ]
  },
  {
   "cell_type": "code",
   "execution_count": null,
   "metadata": {},
   "outputs": [],
   "source": []
  }
 ],
 "metadata": {
  "kernelspec": {
   "display_name": "Python 3",
   "language": "python",
   "name": "python3"
  },
  "language_info": {
   "codemirror_mode": {
    "name": "ipython",
    "version": 3
   },
   "file_extension": ".py",
   "mimetype": "text/x-python",
   "name": "python",
   "nbconvert_exporter": "python",
   "pygments_lexer": "ipython3",
   "version": "3.6.7"
  }
 },
 "nbformat": 4,
 "nbformat_minor": 2
}
