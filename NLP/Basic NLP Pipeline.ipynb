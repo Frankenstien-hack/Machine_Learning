{
 "cells": [
  {
   "cell_type": "markdown",
   "metadata": {},
   "source": [
    "## Basic NLP Pipeline"
   ]
  },
  {
   "cell_type": "markdown",
   "metadata": {},
   "source": [
    "#### Tokenization"
   ]
  },
  {
   "cell_type": "code",
   "execution_count": 1,
   "metadata": {},
   "outputs": [],
   "source": [
    "from nltk.tokenize import sent_tokenize, word_tokenize"
   ]
  },
  {
   "cell_type": "code",
   "execution_count": 2,
   "metadata": {},
   "outputs": [
    {
     "name": "stdout",
     "output_type": "stream",
     "text": [
      "It was a very pleasant and cool day, their were light showers. I went to the Mall road for some shopping.\n"
     ]
    }
   ],
   "source": [
    "text = \"It was a very pleasant and cool day, their were light showers. I went to the Mall road for some shopping.\"\n",
    "print(text)"
   ]
  },
  {
   "cell_type": "code",
   "execution_count": 3,
   "metadata": {},
   "outputs": [
    {
     "name": "stdout",
     "output_type": "stream",
     "text": [
      "['It was a very pleasant and cool day, their were light showers.', 'I went to the Mall road for some shopping.']\n"
     ]
    }
   ],
   "source": [
    "sents = sent_tokenize(text)\n",
    "print(sents)"
   ]
  },
  {
   "cell_type": "code",
   "execution_count": 4,
   "metadata": {},
   "outputs": [
    {
     "name": "stdout",
     "output_type": "stream",
     "text": [
      "['it', 'was', 'a', 'very', 'pleasant', 'and', 'cool', 'day', ',', 'their', 'were', 'light', 'showers', '.']\n"
     ]
    }
   ],
   "source": [
    "word_list = word_tokenize(sents[0].lower())\n",
    "print(word_list)"
   ]
  },
  {
   "cell_type": "markdown",
   "metadata": {},
   "source": [
    "#### Stopwords removal"
   ]
  },
  {
   "cell_type": "code",
   "execution_count": 5,
   "metadata": {},
   "outputs": [],
   "source": [
    "from nltk.corpus import stopwords"
   ]
  },
  {
   "cell_type": "code",
   "execution_count": 6,
   "metadata": {},
   "outputs": [],
   "source": [
    "sw = set(stopwords.words('english'))"
   ]
  },
  {
   "cell_type": "code",
   "execution_count": 7,
   "metadata": {},
   "outputs": [
    {
     "name": "stdout",
     "output_type": "stream",
     "text": [
      "{'and', 'doesn', 'where', 'who', \"should've\", 'have', 'them', 'down', 'don', 'their', 'own', 'yourselves', 'further', 'were', 'i', 'or', 'o', 'shouldn', 'during', 'below', 'such', 'because', 'whom', 'll', 'needn', 'here', 'he', 'himself', 'there', 'are', 'each', 'you', \"mightn't\", \"don't\", 'but', 'themselves', 'against', \"it's\", 'am', 'couldn', 'nor', \"she's\", 'had', 'do', 'what', 'they', 'any', 'she', 'won', 'yourself', 'has', 'an', 'how', 'y', 'didn', 'off', 'herself', 'him', 'no', 'only', 'some', 'we', \"hadn't\", 'mustn', 'now', \"wasn't\", 'to', 'been', 'if', 'again', 'ma', 'is', \"you're\", 'this', 'then', 'when', 'why', 'can', 'of', 'about', 'by', \"shouldn't\", \"that'll\", 'out', 'just', 'wasn', 't', 'myself', \"hasn't\", 'as', 'few', \"mustn't\", 'my', 'hadn', 'having', 'with', 'more', 'same', 'haven', 'his', 'into', 'isn', 'should', \"weren't\", 'on', 'through', 'at', 'it', 'her', 'other', 'so', 'its', 'which', \"aren't\", 'before', 'from', 'did', 'itself', 'above', 'wouldn', 'your', \"you've\", 's', 'will', \"isn't\", \"couldn't\", \"needn't\", 'not', 'me', 'these', 'ain', 'once', 'was', 're', 'our', 'doing', 'very', 'the', 'ours', 'over', \"won't\", 'm', 'than', 'hers', \"wouldn't\", 'too', 'for', 'up', 'hasn', 'under', 'weren', 've', 'a', 'while', 'd', 'between', \"you'd\", 'aren', 'mightn', 'be', 'those', 'shan', 'after', 'all', \"didn't\", 'that', \"shan't\", \"doesn't\", \"you'll\", 'yours', 'until', 'in', 'does', 'both', 'ourselves', 'most', 'theirs', 'being', \"haven't\"}\n",
      "179\n"
     ]
    }
   ],
   "source": [
    "print(sw)\n",
    "print(len(sw))"
   ]
  },
  {
   "cell_type": "code",
   "execution_count": 8,
   "metadata": {},
   "outputs": [
    {
     "name": "stdout",
     "output_type": "stream",
     "text": [
      "['pleasant', 'cool', 'day', ',', 'light', 'showers', '.']\n"
     ]
    }
   ],
   "source": [
    "useful_words = [w for w in word_list if w not in sw]\n",
    "print(useful_words)\n"
   ]
  },
  {
   "cell_type": "markdown",
   "metadata": {},
   "source": [
    "#### Tokenisation using regex"
   ]
  },
  {
   "cell_type": "code",
   "execution_count": 9,
   "metadata": {},
   "outputs": [],
   "source": [
    "from nltk.tokenize import RegexpTokenizer"
   ]
  },
  {
   "cell_type": "code",
   "execution_count": 10,
   "metadata": {},
   "outputs": [],
   "source": [
    "tokenizer = RegexpTokenizer(\"[A-Za-z@]+\")"
   ]
  },
  {
   "cell_type": "code",
   "execution_count": 11,
   "metadata": {},
   "outputs": [],
   "source": [
    "text1 = \"Send all the related documents to clauses 1,2,3 at siddhu15798@gmail.com\""
   ]
  },
  {
   "cell_type": "code",
   "execution_count": 12,
   "metadata": {},
   "outputs": [
    {
     "name": "stdout",
     "output_type": "stream",
     "text": [
      "['Send', 'all', 'the', 'related', 'documents', 'to', 'clauses', 'at', 'siddhu', '@gmail', 'com']\n"
     ]
    }
   ],
   "source": [
    "print(tokenizer.tokenize(text1))"
   ]
  },
  {
   "cell_type": "code",
   "execution_count": 13,
   "metadata": {},
   "outputs": [],
   "source": [
    "tokenizer1 = RegexpTokenizer(\"[A-Za-z]+\")"
   ]
  },
  {
   "cell_type": "code",
   "execution_count": 14,
   "metadata": {},
   "outputs": [
    {
     "name": "stdout",
     "output_type": "stream",
     "text": [
      "['It', 'was', 'a', 'very', 'pleasant', 'and', 'cool', 'day', 'their', 'were', 'light', 'showers', 'I', 'went', 'to', 'the', 'Mall', 'road', 'for', 'some', 'shopping']\n"
     ]
    }
   ],
   "source": [
    "print(tokenizer.tokenize(text))"
   ]
  },
  {
   "cell_type": "markdown",
   "metadata": {},
   "source": [
    "#### Stemming"
   ]
  },
  {
   "cell_type": "code",
   "execution_count": 15,
   "metadata": {},
   "outputs": [],
   "source": [
    "text2 = \"Foxes love to make jumps. The quick brown fox was seen jumping over the lovely dog from a 6ft high wall\""
   ]
  },
  {
   "cell_type": "code",
   "execution_count": 16,
   "metadata": {},
   "outputs": [],
   "source": [
    "wordlist1 = tokenizer.tokenize(text2.lower())"
   ]
  },
  {
   "cell_type": "code",
   "execution_count": 17,
   "metadata": {},
   "outputs": [
    {
     "name": "stdout",
     "output_type": "stream",
     "text": [
      "['foxes', 'love', 'make', 'jumps', 'quick', 'brown', 'fox', 'seen', 'jumping', 'lovely', 'dog', 'ft', 'high', 'wall']\n"
     ]
    }
   ],
   "source": [
    "wordlist1 = [w for w in wordlist1 if w not in sw]\n",
    "print(wordlist1)"
   ]
  },
  {
   "cell_type": "markdown",
   "metadata": {},
   "source": [
    "### Types of Stemmer\n",
    "- 1) Snowball Stemmer - Supports multilingual stemming\n",
    "- 2) Porter Stemmer - Supports only English\n",
    "- 3) Lancaster Stemmer - Supports only English"
   ]
  },
  {
   "cell_type": "code",
   "execution_count": 18,
   "metadata": {},
   "outputs": [],
   "source": [
    "from nltk.stem.snowball import PorterStemmer, SnowballStemmer\n",
    "from nltk.stem.lancaster import LancasterStemmer"
   ]
  },
  {
   "cell_type": "code",
   "execution_count": 19,
   "metadata": {},
   "outputs": [],
   "source": [
    "ps = PorterStemmer()"
   ]
  },
  {
   "cell_type": "code",
   "execution_count": 74,
   "metadata": {},
   "outputs": [
    {
     "name": "stdout",
     "output_type": "stream",
     "text": [
      "love\n",
      "quickli\n"
     ]
    }
   ],
   "source": [
    "print(ps.stem(\"lovely\"))\n",
    "print(ps.stem(\"quickly\"))"
   ]
  },
  {
   "cell_type": "code",
   "execution_count": 22,
   "metadata": {},
   "outputs": [
    {
     "name": "stdout",
     "output_type": "stream",
     "text": [
      "{'make', 'seen', 'jump', 'brown', 'dog', 'high', 'quick', 'fox', 'love', 'ft', 'wall'}\n"
     ]
    }
   ],
   "source": [
    "j = []\n",
    "for i in wordlist1:\n",
    "    a = ps.stem(i)\n",
    "    j.append(a)\n",
    "print(set(j))"
   ]
  },
  {
   "cell_type": "code",
   "execution_count": 23,
   "metadata": {},
   "outputs": [
    {
     "data": {
      "text/plain": [
       "'tee'"
      ]
     },
     "execution_count": 23,
     "metadata": {},
     "output_type": "execute_result"
    }
   ],
   "source": [
    "ls = LancasterStemmer()\n",
    "ls.stem(\"teeth\")"
   ]
  },
  {
   "cell_type": "code",
   "execution_count": 24,
   "metadata": {},
   "outputs": [
    {
     "name": "stdout",
     "output_type": "stream",
     "text": [
      "{'make', 'seen', 'jump', 'brown', 'dog', 'high', 'quick', 'fox', 'love', 'ft', 'wall'}\n"
     ]
    }
   ],
   "source": [
    "k = []\n",
    "for i in wordlist1:\n",
    "    a = ls.stem(i)\n",
    "    k.append(a)\n",
    "print(set(j))"
   ]
  },
  {
   "cell_type": "code",
   "execution_count": 25,
   "metadata": {},
   "outputs": [
    {
     "data": {
      "text/plain": [
       "'teeth'"
      ]
     },
     "execution_count": 25,
     "metadata": {},
     "output_type": "execute_result"
    }
   ],
   "source": [
    "ss = SnowballStemmer('english')\n",
    "ss.stem(\"teeth\")"
   ]
  },
  {
   "cell_type": "code",
   "execution_count": 26,
   "metadata": {},
   "outputs": [
    {
     "name": "stdout",
     "output_type": "stream",
     "text": [
      "{'make', 'seen', 'jump', 'brown', 'dog', 'high', 'quick', 'fox', 'love', 'ft', 'wall'}\n"
     ]
    }
   ],
   "source": [
    "l = []\n",
    "for i in wordlist1:\n",
    "    a = ss.stem(i)\n",
    "    l.append(a)\n",
    "print(set(j))"
   ]
  },
  {
   "cell_type": "code",
   "execution_count": 27,
   "metadata": {},
   "outputs": [],
   "source": [
    "def func(text):\n",
    "    tokenizer = RegexpTokenizer(\"[A-Za-z]+\")\n",
    "    words = tokenizer.tokenize(text.lower())\n",
    "    sw = set(stopwords.words('english'))\n",
    "    useful_words = [w for w in words if w not in sw]\n",
    "    ss = SnowballStemmer('english')\n",
    "    x = []\n",
    "    for i in useful_words:\n",
    "        a = ss.stem(i)\n",
    "        x.append(a)\n",
    "    return x"
   ]
  },
  {
   "cell_type": "code",
   "execution_count": 28,
   "metadata": {},
   "outputs": [
    {
     "name": "stdout",
     "output_type": "stream",
     "text": [
      "['pleasant', 'cool', 'day', 'light', 'shower', 'went', 'mall', 'road', 'shop']\n"
     ]
    }
   ],
   "source": [
    "y = func(text)\n",
    "print(y)"
   ]
  },
  {
   "cell_type": "markdown",
   "metadata": {},
   "source": [
    "#### Building common vocab and vectorizing documents (Bag of word)"
   ]
  },
  {
   "cell_type": "code",
   "execution_count": 29,
   "metadata": {},
   "outputs": [],
   "source": [
    "corpus = [\n",
    "    'Indian cricket team will win the World Cup, says Capt. Virat Kohli',\n",
    "    'We will win next Lok Sabha elections, said confident Indian PM',\n",
    "    'The nobel laurate won the hearts of the people',\n",
    "    'The movie Raazi is an exciting Indian Spy Thriller movie based upon a real story'\n",
    "]"
   ]
  },
  {
   "cell_type": "code",
   "execution_count": 30,
   "metadata": {},
   "outputs": [],
   "source": [
    "from sklearn.feature_extraction.text import CountVectorizer"
   ]
  },
  {
   "cell_type": "code",
   "execution_count": 31,
   "metadata": {},
   "outputs": [],
   "source": [
    "cv = CountVectorizer()"
   ]
  },
  {
   "cell_type": "code",
   "execution_count": 37,
   "metadata": {},
   "outputs": [],
   "source": [
    "#vectorized_corpus = cv.fit_transform(corpus)\n",
    "vectorized_corpus = cv.fit_transform(corpus).toarray()\n"
   ]
  },
  {
   "cell_type": "code",
   "execution_count": 38,
   "metadata": {},
   "outputs": [
    {
     "data": {
      "text/plain": [
       "array([[0, 0, 1, 0, 1, 1, 0, 0, 0, 1, 0, 1, 0, 0, 0, 0, 0, 0, 0, 0, 0, 0,\n",
       "        0, 0, 1, 0, 0, 1, 1, 0, 0, 1, 0, 1, 1, 0, 1],\n",
       "       [0, 0, 0, 1, 0, 0, 1, 0, 0, 1, 0, 0, 0, 1, 0, 1, 0, 0, 0, 1, 0, 0,\n",
       "        1, 1, 0, 0, 0, 0, 0, 0, 0, 0, 1, 1, 1, 0, 0],\n",
       "       [0, 0, 0, 0, 0, 0, 0, 0, 1, 0, 0, 0, 1, 0, 0, 0, 1, 1, 1, 0, 0, 0,\n",
       "        0, 0, 0, 0, 0, 0, 3, 0, 0, 0, 0, 0, 0, 1, 0],\n",
       "       [1, 1, 0, 0, 0, 0, 0, 1, 0, 1, 1, 0, 0, 0, 2, 0, 0, 0, 0, 0, 1, 1,\n",
       "        0, 0, 0, 1, 1, 0, 1, 1, 1, 0, 0, 0, 0, 0, 0]], dtype=int64)"
      ]
     },
     "execution_count": 38,
     "metadata": {},
     "output_type": "execute_result"
    }
   ],
   "source": [
    "vectorized_corpus"
   ]
  },
  {
   "cell_type": "code",
   "execution_count": 43,
   "metadata": {},
   "outputs": [
    {
     "name": "stdout",
     "output_type": "stream",
     "text": [
      "[[0 0 1 0 1 1 0 0 0 1 0 1 0 0 0 0 0 0 0 0 0 0 0 0 1 0 0 1 1 0 0 1 0 1 1 0\n",
      "  1]\n",
      " [0 0 0 1 0 0 1 0 0 1 0 0 0 1 0 1 0 0 0 1 0 0 1 1 0 0 0 0 0 0 0 0 1 1 1 0\n",
      "  0]\n",
      " [0 0 0 0 0 0 0 0 1 0 0 0 1 0 0 0 1 1 1 0 0 0 0 0 0 0 0 0 3 0 0 0 0 0 0 1\n",
      "  0]\n",
      " [1 1 0 0 0 0 0 1 0 1 1 0 0 0 2 0 0 0 0 0 1 1 0 0 0 1 1 0 1 1 1 0 0 0 0 0\n",
      "  0]]\n",
      "37\n"
     ]
    }
   ],
   "source": [
    "print(vectorized_corpus)\n",
    "print(len(vectorized_corpus[0]))"
   ]
  },
  {
   "cell_type": "code",
   "execution_count": 40,
   "metadata": {},
   "outputs": [
    {
     "name": "stdout",
     "output_type": "stream",
     "text": [
      "{'indian': 9, 'cricket': 4, 'team': 27, 'will': 33, 'win': 34, 'the': 28, 'world': 36, 'cup': 5, 'says': 24, 'capt': 2, 'virat': 31, 'kohli': 11, 'we': 32, 'next': 15, 'lok': 13, 'sabha': 22, 'elections': 6, 'said': 23, 'confident': 3, 'pm': 19, 'nobel': 16, 'laurate': 12, 'won': 35, 'hearts': 8, 'of': 17, 'people': 18, 'movie': 14, 'raazi': 20, 'is': 10, 'an': 0, 'exciting': 7, 'spy': 25, 'thriller': 29, 'based': 1, 'upon': 30, 'real': 21, 'story': 26}\n"
     ]
    }
   ],
   "source": [
    "print(cv.vocabulary_)"
   ]
  },
  {
   "cell_type": "code",
   "execution_count": 41,
   "metadata": {},
   "outputs": [],
   "source": [
    "import numpy as np"
   ]
  },
  {
   "cell_type": "code",
   "execution_count": 47,
   "metadata": {},
   "outputs": [
    {
     "name": "stdout",
     "output_type": "stream",
     "text": [
      "[1. 1. 1. 1. 1. 1. 1. 1. 1. 1. 1. 1. 1. 1. 1. 1. 1. 1. 1. 1. 1. 1. 1. 1.\n",
      " 1. 1. 1. 1. 1. 1. 1. 1. 1. 1. 1. 1. 1.]\n"
     ]
    }
   ],
   "source": [
    "vector = np.ones((37,))\n",
    "print(vector)"
   ]
  },
  {
   "cell_type": "code",
   "execution_count": 48,
   "metadata": {},
   "outputs": [
    {
     "name": "stdout",
     "output_type": "stream",
     "text": [
      "[array(['an', 'based', 'capt', 'confident', 'cricket', 'cup', 'elections',\n",
      "       'exciting', 'hearts', 'indian', 'is', 'kohli', 'laurate', 'lok',\n",
      "       'movie', 'next', 'nobel', 'of', 'people', 'pm', 'raazi', 'real',\n",
      "       'sabha', 'said', 'says', 'spy', 'story', 'team', 'the', 'thriller',\n",
      "       'upon', 'virat', 'we', 'will', 'win', 'won', 'world'], dtype='<U9')]\n"
     ]
    }
   ],
   "source": [
    "print(cv.inverse_transform(vector))"
   ]
  },
  {
   "cell_type": "code",
   "execution_count": 49,
   "metadata": {},
   "outputs": [
    {
     "data": {
      "text/plain": [
       "7"
      ]
     },
     "execution_count": 49,
     "metadata": {},
     "output_type": "execute_result"
    }
   ],
   "source": [
    "cv.vocabulary_[\"exciting\"]"
   ]
  },
  {
   "cell_type": "code",
   "execution_count": 54,
   "metadata": {},
   "outputs": [
    {
     "data": {
      "text/plain": [
       "['indian',\n",
       " 'cricket',\n",
       " 'team',\n",
       " 'will',\n",
       " 'win',\n",
       " 'the',\n",
       " 'world',\n",
       " 'cup',\n",
       " 'says',\n",
       " 'capt',\n",
       " 'virat',\n",
       " 'kohli']"
      ]
     },
     "execution_count": 54,
     "metadata": {},
     "output_type": "execute_result"
    }
   ],
   "source": [
    "## Effectively reduce the size of the vectors\n",
    "\n",
    "def myTokenizer(sentence):\n",
    "    words = tokenizer.tokenize(sentence.lower())\n",
    "    return words\n",
    "\n",
    "myTokenizer(corpus[0])"
   ]
  },
  {
   "cell_type": "code",
   "execution_count": 62,
   "metadata": {},
   "outputs": [
    {
     "name": "stdout",
     "output_type": "stream",
     "text": [
      "[0 0 0 1 0 1 1 0 0 0 1 0 1 0 0 0 0 0 0 0 0 0 0 0 0 1 0 0 1 1 0 0 1 0 1 1 0\n",
      " 1]\n",
      "38\n",
      "[1 0 0 1 0 1 1 0 0 0 1 0 1 0 0 0 0 0 0 0 0 0 0 0 0 1 0 0 1 1 0 0 1 0 1 1 0\n",
      " 1]\n"
     ]
    },
    {
     "data": {
      "text/plain": [
       "[array(['a', 'capt', 'cricket', 'cup', 'indian', 'kohli', 'says', 'team',\n",
       "        'the', 'virat', 'will', 'win', 'world'], dtype='<U9')]"
      ]
     },
     "execution_count": 62,
     "metadata": {},
     "output_type": "execute_result"
    }
   ],
   "source": [
    "cv = CountVectorizer(tokenizer=myTokenizer)\n",
    "vectorized_corpus = cv.fit_transform(corpus)\n",
    "vc = vectorized_corpus.toarray()\n",
    "print(vc[0])\n",
    "print(len(vc[0]))\n",
    "vc[0][0] = 1\n",
    "v = vc[0]\n",
    "print(vc[0])\n",
    "cv.inverse_transform(v)"
   ]
  },
  {
   "cell_type": "code",
   "execution_count": null,
   "metadata": {},
   "outputs": [],
   "source": []
  },
  {
   "cell_type": "markdown",
   "metadata": {},
   "source": [
    "#### Features of Bag of Words Model\n",
    "- unigram\n",
    "- bigrams, trigrams\n",
    "- ngrams"
   ]
  },
  {
   "cell_type": "code",
   "execution_count": 63,
   "metadata": {},
   "outputs": [
    {
     "name": "stdout",
     "output_type": "stream",
     "text": [
      "{'indian': 20, 'cricket': 10, 'team': 55, 'will': 71, 'win': 73, 'the': 57, 'world': 78, 'cup': 12, 'says': 50, 'capt': 6, 'virat': 67, 'kohli': 26, 'indian cricket': 21, 'cricket team': 11, 'team will': 56, 'will win': 72, 'win the': 75, 'the world': 62, 'world cup': 79, 'cup says': 13, 'says capt': 51, 'capt virat': 7, 'virat kohli': 68, 'we': 69, 'next': 34, 'lok': 29, 'sabha': 46, 'elections': 14, 'said': 48, 'confident': 8, 'pm': 41, 'we will': 70, 'win next': 74, 'next lok': 35, 'lok sabha': 30, 'sabha elections': 47, 'elections said': 15, 'said confident': 49, 'confident indian': 9, 'indian pm': 22, 'nobel': 36, 'laurate': 27, 'won': 76, 'hearts': 18, 'of': 38, 'people': 40, 'the nobel': 60, 'nobel laurate': 37, 'laurate won': 28, 'won the': 77, 'the hearts': 58, 'hearts of': 19, 'of the': 39, 'the people': 61, 'movie': 31, 'raazi': 42, 'is': 24, 'an': 2, 'exciting': 16, 'spy': 52, 'thriller': 63, 'based': 4, 'upon': 65, 'a': 0, 'real': 44, 'story': 54, 'the movie': 59, 'movie raazi': 33, 'raazi is': 43, 'is an': 25, 'an exciting': 3, 'exciting indian': 17, 'indian spy': 23, 'spy thriller': 53, 'thriller movie': 64, 'movie based': 32, 'based upon': 5, 'upon a': 66, 'a real': 1, 'real story': 45}\n"
     ]
    }
   ],
   "source": [
    "cv = CountVectorizer(tokenizer=myTokenizer, ngram_range=(1,2))\n",
    "vectorized_corpus = cv.fit_transform(corpus)\n",
    "vc = vectorized_corpus.toarray()\n",
    "\n",
    "print(cv.vocabulary_)"
   ]
  },
  {
   "cell_type": "markdown",
   "metadata": {},
   "source": [
    "#### TF-IDF Normalisation\n",
    "- Avoid features that occur very often, because they contain less info.\n",
    "- info dec as the no of occurences inc across different type of docs.\n",
    "- we define another term - term Doc Frequency which associates a weight with every term."
   ]
  },
  {
   "cell_type": "code",
   "execution_count": 66,
   "metadata": {},
   "outputs": [],
   "source": [
    "corpus = [\n",
    "    'Indian cricket team will win the World Cup, says Capt. Virat Kohli. World cup will held at Sri Lanka',\n",
    "    'We will win next Lok Sabha elections, said confident Indian PM',\n",
    "    'The nobel laurate won the hearts of the people',\n",
    "    'The movie Raazi is an exciting Indian Spy Thriller movie based upon a real story'\n",
    "]"
   ]
  },
  {
   "cell_type": "code",
   "execution_count": 67,
   "metadata": {},
   "outputs": [],
   "source": [
    "from sklearn.feature_extraction.text import TfidfVectorizer"
   ]
  },
  {
   "cell_type": "code",
   "execution_count": 72,
   "metadata": {},
   "outputs": [
    {
     "name": "stdout",
     "output_type": "stream",
     "text": [
      "[[0.         0.         0.         0.         0.15514718 0.15514718\n",
      "  0.         0.         0.15514718 0.15514718 0.         0.\n",
      "  0.15514718 0.15514718 0.31029435 0.15514718 0.15514718 0.\n",
      "  0.         0.         0.         0.         0.         0.15514718\n",
      "  0.15514718 0.09902843 0.15514718 0.         0.         0.\n",
      "  0.         0.15514718 0.15514718 0.15514718 0.         0.\n",
      "  0.         0.         0.         0.         0.         0.\n",
      "  0.         0.         0.         0.         0.         0.\n",
      "  0.         0.         0.         0.         0.         0.\n",
      "  0.         0.         0.         0.15514718 0.15514718 0.\n",
      "  0.         0.15514718 0.15514718 0.         0.15514718 0.15514718\n",
      "  0.09902843 0.         0.         0.         0.         0.15514718\n",
      "  0.         0.         0.         0.         0.15514718 0.15514718\n",
      "  0.         0.         0.24463963 0.15514718 0.12231982 0.12231982\n",
      "  0.         0.15514718 0.         0.         0.31029435 0.31029435]\n",
      " [0.         0.         0.         0.         0.         0.\n",
      "  0.         0.         0.         0.         0.22778991 0.22778991\n",
      "  0.         0.         0.         0.         0.         0.22778991\n",
      "  0.22778991 0.         0.         0.         0.         0.\n",
      "  0.         0.14539535 0.         0.22778991 0.         0.\n",
      "  0.         0.         0.         0.         0.         0.\n",
      "  0.22778991 0.22778991 0.         0.         0.         0.22778991\n",
      "  0.22778991 0.         0.         0.         0.         0.\n",
      "  0.22778991 0.         0.         0.         0.         0.22778991\n",
      "  0.22778991 0.22778991 0.22778991 0.         0.         0.\n",
      "  0.         0.         0.         0.         0.         0.\n",
      "  0.         0.         0.         0.         0.         0.\n",
      "  0.         0.         0.         0.         0.         0.\n",
      "  0.22778991 0.22778991 0.17959218 0.         0.17959218 0.17959218\n",
      "  0.22778991 0.         0.         0.         0.         0.        ]\n",
      " [0.         0.         0.         0.         0.         0.\n",
      "  0.         0.         0.         0.         0.         0.\n",
      "  0.         0.         0.         0.         0.         0.\n",
      "  0.         0.         0.         0.2379153  0.2379153  0.\n",
      "  0.         0.         0.         0.         0.         0.\n",
      "  0.         0.         0.         0.         0.2379153  0.2379153\n",
      "  0.         0.         0.         0.         0.         0.\n",
      "  0.         0.2379153  0.2379153  0.2379153  0.2379153  0.2379153\n",
      "  0.         0.         0.         0.         0.         0.\n",
      "  0.         0.         0.         0.         0.         0.\n",
      "  0.         0.         0.         0.         0.         0.\n",
      "  0.45557476 0.2379153  0.         0.2379153  0.2379153  0.\n",
      "  0.         0.         0.         0.         0.         0.\n",
      "  0.         0.         0.         0.         0.         0.\n",
      "  0.         0.         0.2379153  0.2379153  0.         0.        ]\n",
      " [0.18314029 0.18314029 0.18314029 0.18314029 0.         0.\n",
      "  0.18314029 0.18314029 0.         0.         0.         0.\n",
      "  0.         0.         0.         0.         0.         0.\n",
      "  0.         0.18314029 0.18314029 0.         0.         0.\n",
      "  0.         0.11689608 0.         0.         0.18314029 0.18314029\n",
      "  0.18314029 0.         0.         0.         0.         0.\n",
      "  0.         0.         0.36628058 0.18314029 0.18314029 0.\n",
      "  0.         0.         0.         0.         0.         0.\n",
      "  0.         0.18314029 0.18314029 0.18314029 0.18314029 0.\n",
      "  0.         0.         0.         0.         0.         0.18314029\n",
      "  0.18314029 0.         0.         0.18314029 0.         0.\n",
      "  0.11689608 0.         0.18314029 0.         0.         0.\n",
      "  0.18314029 0.18314029 0.18314029 0.18314029 0.         0.\n",
      "  0.         0.         0.         0.         0.         0.\n",
      "  0.         0.         0.         0.         0.         0.        ]]\n"
     ]
    }
   ],
   "source": [
    "tfidf_vectorizer = TfidfVectorizer(tokenizer=myTokenizer,ngram_range=(1,2))\n",
    "vectorized_corpus = tfidf_vectorizer.fit_transform(corpus).toarray()\n",
    "print(vectorized_corpus)"
   ]
  },
  {
   "cell_type": "code",
   "execution_count": 73,
   "metadata": {},
   "outputs": [
    {
     "name": "stdout",
     "output_type": "stream",
     "text": [
      "{'indian': 25, 'cricket': 12, 'team': 64, 'will': 80, 'win': 83, 'the': 66, 'world': 88, 'cup': 14, 'says': 57, 'capt': 8, 'virat': 76, 'kohli': 31, 'held': 23, 'at': 4, 'sri': 61, 'lanka': 33, 'indian cricket': 26, 'cricket team': 13, 'team will': 65, 'will win': 82, 'win the': 85, 'the world': 71, 'world cup': 89, 'cup says': 15, 'says capt': 58, 'capt virat': 9, 'virat kohli': 77, 'kohli world': 32, 'cup will': 16, 'will held': 81, 'held at': 24, 'at sri': 5, 'sri lanka': 62, 'we': 78, 'next': 41, 'lok': 36, 'sabha': 53, 'elections': 17, 'said': 55, 'confident': 10, 'pm': 48, 'we will': 79, 'win next': 84, 'next lok': 42, 'lok sabha': 37, 'sabha elections': 54, 'elections said': 18, 'said confident': 56, 'confident indian': 11, 'indian pm': 27, 'nobel': 43, 'laurate': 34, 'won': 86, 'hearts': 21, 'of': 45, 'people': 47, 'the nobel': 69, 'nobel laurate': 44, 'laurate won': 35, 'won the': 87, 'the hearts': 67, 'hearts of': 22, 'of the': 46, 'the people': 70, 'movie': 38, 'raazi': 49, 'is': 29, 'an': 2, 'exciting': 19, 'spy': 59, 'thriller': 72, 'based': 6, 'upon': 74, 'a': 0, 'real': 51, 'story': 63, 'the movie': 68, 'movie raazi': 40, 'raazi is': 50, 'is an': 30, 'an exciting': 3, 'exciting indian': 20, 'indian spy': 28, 'spy thriller': 60, 'thriller movie': 73, 'movie based': 39, 'based upon': 7, 'upon a': 75, 'a real': 1, 'real story': 52}\n"
     ]
    }
   ],
   "source": [
    "print(tfidf_vectorizer.vocabulary_)"
   ]
  },
  {
   "cell_type": "code",
   "execution_count": null,
   "metadata": {},
   "outputs": [],
   "source": []
  }
 ],
 "metadata": {
  "kernelspec": {
   "display_name": "Python 3",
   "language": "python",
   "name": "python3"
  },
  "language_info": {
   "codemirror_mode": {
    "name": "ipython",
    "version": 3
   },
   "file_extension": ".py",
   "mimetype": "text/x-python",
   "name": "python",
   "nbconvert_exporter": "python",
   "pygments_lexer": "ipython3",
   "version": "3.6.8"
  }
 },
 "nbformat": 4,
 "nbformat_minor": 2
}
